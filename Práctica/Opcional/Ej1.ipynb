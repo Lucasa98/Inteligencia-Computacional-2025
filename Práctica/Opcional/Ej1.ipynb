{
 "cells": [
  {
   "cell_type": "markdown",
   "id": "a6b1d4e6",
   "metadata": {},
   "source": [
    "# Redes de Hopfield\n",
    "\n",
    "## Ejercicio 1\n",
    "\n",
    "Implemente la arquitectura para una red recurrente de Hopfield con su entrenmiento hebbino y pruébela con los patrones que se meustran en la siguiente figura."
   ]
  },
  {
   "cell_type": "code",
   "execution_count": 7,
   "id": "c08c7138",
   "metadata": {},
   "outputs": [
    {
     "data": {
      "image/png": "[encoded data removed]",
      "text/plain": [
       "<Figure size 640x480 with 3 Axes>"
      ]
     },
     "metadata": {},
     "output_type": "display_data"
    }
   ],
   "source": [
    "import numpy as np\n",
    "import matplotlib.pyplot as plt\n",
    "\n",
    "def show_bitmap(vec, ax):\n",
    "    vec = np.asarray(vec)\n",
    "    N = int(np.sqrt(vec.size))\n",
    "\n",
    "    img = vec.reshape(N, N)\n",
    "\n",
    "    img = 1 - (img if img.max() <= 1 else img / img.max())\n",
    "\n",
    "    # Force black/white rendering\n",
    "    ax.set_xticks(np.arange(0, N+1, 1))\n",
    "    ax.set_yticks(np.arange(0, N+1, 1))\n",
    "    ax.set_aspect(\"equal\")\n",
    "    ax.set_xticklabels([])\n",
    "    ax.set_yticklabels([])\n",
    "    ax.imshow(img, cmap='gray', vmin=0, vmax=1, interpolation='nearest', origin='upper', extent=[0, N, 0, N])\n",
    "    ax.grid(which=\"both\", color=\"black\", linewidth=0.5)\n",
    "\n",
    "x1 = np.array([\n",
    "    0, 0, 0, 0, 0,\n",
    "    0, 1, 1, 1, 0,\n",
    "    0, 1, 0, 1, 0,\n",
    "    0, 1, 1, 1, 0,\n",
    "    0, 0, 0, 0, 0,\n",
    "])\n",
    "x2 = np.array([\n",
    "    1, 1, 0, 0, 0,\n",
    "    0, 1, 1, 0, 0,\n",
    "    0, 0, 1, 0, 0,\n",
    "    0, 0, 1, 1, 0,\n",
    "    0, 0, 0, 1, 1,\n",
    "])\n",
    "x3 = np.array([\n",
    "    1, 1, 1, 1, 1,\n",
    "    1, 0, 0, 0, 1,\n",
    "    1, 0, 0, 0, 1,\n",
    "    1, 0, 0, 0, 1,\n",
    "    1, 1, 1, 1, 1,\n",
    "])\n",
    "\n",
    "fig, ax = plt.subplots(1,3)\n",
    "\n",
    "show_bitmap(x1,ax[0])\n",
    "show_bitmap(x2,ax[1])\n",
    "show_bitmap(x3,ax[2])"
   ]
  },
  {
   "cell_type": "code",
   "execution_count": 8,
   "id": "14c84a8b",
   "metadata": {},
   "outputs": [],
   "source": [
    "import Hopfield\n",
    "\n",
    "def noise(pattern: np.ndarray, rng, rate: float = 0.2) -> np.ndarray:\n",
    "    noisy = pattern.copy()\n",
    "    N = len(pattern)\n",
    "\n",
    "    k = int(rate * N)\n",
    "    idx = rng.choice(N, size=k, replace=False)\n",
    "    noisy[idx] = np.where(noisy[idx] == 1, 0, 1)   # flip\n",
    "    return noisy\n",
    "\n",
    "# Almacenar patrones\n",
    "hopfield = Hopfield.Hopfield()\n",
    "hopfield.entrenar(np.array([x1,x2,x3]))"
   ]
  },
  {
   "cell_type": "code",
   "execution_count": 10,
   "id": "d4b3fbe5",
   "metadata": {},
   "outputs": [
    {
     "name": "stdout",
     "output_type": "stream",
     "text": [
      "4\n",
      "4\n",
      "3\n"
     ]
    },
    {
     "data": {
      "image/png": "[encoded data removed]",
      "text/plain": [
       "<Figure size 640x480 with 4 Axes>"
      ]
     },
     "metadata": {},
     "output_type": "display_data"
    },
    {
     "data": {
      "image/png": "[encoded data removed]",
      "text/plain": [
       "<Figure size 640x480 with 4 Axes>"
      ]
     },
     "metadata": {},
     "output_type": "display_data"
    },
    {
     "data": {
      "image/png": "[encoded data removed]",
      "text/plain": [
       "<Figure size 640x480 with 3 Axes>"
      ]
     },
     "metadata": {},
     "output_type": "display_data"
    }
   ],
   "source": [
    "# RECUPERAR\n",
    "rng = np.random.default_rng()\n",
    "x = noise(x1, rng)\n",
    "y = hopfield.recuperar(x)\n",
    "print(len(y))\n",
    "\n",
    "fig, ax = plt.subplots(1,len(y))\n",
    "for i in range(len(y)):\n",
    "    show_bitmap(y[i], ax[i])\n",
    "\n",
    "x = noise(x2, rng)\n",
    "y = hopfield.recuperar(x)\n",
    "print(len(y))\n",
    "\n",
    "fig, ax = plt.subplots(1,len(y))\n",
    "for i in range(len(y)):\n",
    "    show_bitmap(y[i], ax[i])\n",
    "\n",
    "x = noise(x3, rng)\n",
    "y = hopfield.recuperar(x)\n",
    "print(len(y))\n",
    "\n",
    "fig, ax = plt.subplots(1,len(y))\n",
    "for i in range(len(y)):\n",
    "    show_bitmap(y[i], ax[i])"
   ]
  }
 ],
 "metadata": {
  "kernelspec": {
   "display_name": "Python 3",
   "language": "python",
   "name": "python3"
  },
  "language_info": {
   "codemirror_mode": {
    "name": "ipython",
    "version": 3
   },
   "file_extension": ".py",
   "mimetype": "text/x-python",
   "name": "python",
   "nbconvert_exporter": "python",
   "pygments_lexer": "ipython3",
   "version": "3.13.3"
  }
 },
 "nbformat": 4,
 "nbformat_minor": 5
}
