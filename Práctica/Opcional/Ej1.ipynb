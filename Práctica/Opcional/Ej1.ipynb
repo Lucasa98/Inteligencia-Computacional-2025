{
 "cells": [
  {
   "cell_type": "markdown",
   "id": "a6b1d4e6",
   "metadata": {},
   "source": [
    "# Redes de Hopfield\n",
    "\n",
    "## Ejercicio 1\n",
    "\n",
    "Implemente la arquitectura para una red recurrente de Hopfield con su entrenmiento hebbino y pruébela con los patrones que se meustran en la siguiente figura."
   ]
  },
  {
   "cell_type": "code",
   "execution_count": 1,
   "id": "c08c7138",
   "metadata": {},
   "outputs": [
    {
     "data": {
      "image/png": "[encoded data removed]",
      "text/plain": [
       "<Figure size 640x480 with 3 Axes>"
      ]
     },
     "metadata": {},
     "output_type": "display_data"
    }
   ],
   "source": [
    "import numpy as np\n",
    "import matplotlib.pyplot as plt\n",
    "\n",
    "def show_bitmap(vec, ax, N=None):\n",
    "    \"\"\"\n",
    "    Display a 1D array of length N^2 as an N x N black/white bitmap.\n",
    "\n",
    "    vec         : 1D array-like; values can be 0/1, bool, or any numeric.\n",
    "    N           : side length. If None, inferred as sqrt(len(vec)).\n",
    "    threshold   : if not None, binarize by vec > threshold.\n",
    "    invert      : if True, flips 0<->1.\n",
    "    \"\"\"\n",
    "    vec = np.asarray(vec)\n",
    "    if vec.ndim != 1:\n",
    "        raise ValueError(\"vec must be 1D\")\n",
    "\n",
    "    if N is None:\n",
    "        N = int(np.sqrt(vec.size))\n",
    "    if N * N != vec.size:\n",
    "        raise ValueError(f\"Length {vec.size} is not a perfect square (N^2).\")\n",
    "\n",
    "    img = vec.reshape(N, N)\n",
    "\n",
    "    img = 1 - (img if img.max() <= 1 else img / img.max())\n",
    "\n",
    "    # Force black/white rendering\n",
    "    ax.set_xticks(np.arange(0, N+1, 1))\n",
    "    ax.set_yticks(np.arange(0, N+1, 1))\n",
    "    ax.set_aspect(\"equal\")\n",
    "    ax.set_xticklabels([])\n",
    "    ax.set_yticklabels([])\n",
    "    ax.imshow(img, cmap='gray', vmin=0, vmax=1, interpolation='nearest', origin='upper', extent=[0, N, 0, N])\n",
    "    ax.grid(which=\"both\", color=\"black\", linewidth=0.5)\n",
    "\n",
    "x1 = np.array([\n",
    "    0, 0, 0, 0, 0,\n",
    "    0, 1, 1, 1, 0,\n",
    "    0, 1, 0, 1, 0,\n",
    "    0, 1, 1, 1, 0,\n",
    "    0, 0, 0, 0, 0,\n",
    "])\n",
    "x2 = np.array([\n",
    "    1, 1, 0, 0, 0,\n",
    "    0, 1, 1, 0, 0,\n",
    "    0, 0, 1, 0, 0,\n",
    "    0, 0, 1, 1, 0,\n",
    "    0, 0, 0, 1, 1,\n",
    "])\n",
    "x3 = np.array([\n",
    "    1, 1, 1, 1, 1,\n",
    "    1, 0, 0, 0, 1,\n",
    "    1, 0, 0, 0, 1,\n",
    "    1, 0, 0, 0, 1,\n",
    "    1, 1, 1, 1, 1,\n",
    "])\n",
    "\n",
    "fig, ax = plt.subplots(1,3)\n",
    "\n",
    "show_bitmap(x1,ax[0])\n",
    "show_bitmap(x2,ax[1])\n",
    "show_bitmap(x3,ax[2])"
   ]
  },
  {
   "cell_type": "code",
   "execution_count": 24,
   "id": "14c84a8b",
   "metadata": {},
   "outputs": [
    {
     "data": {
      "image/png": "[encoded data removed]",
      "text/plain": [
       "<Figure size 640x480 with 2 Axes>"
      ]
     },
     "metadata": {},
     "output_type": "display_data"
    }
   ],
   "source": [
    "import Hopfield\n",
    "# Almacenar patrones\n",
    "hopfield = Hopfield.Hopfield()\n",
    "hopfield.entrenar(np.array([x1,x2,x3]))\n",
    "\n",
    "# generar imagen aleatoria\n",
    "rng = np.random.default_rng()\n",
    "x = rng.integers(0, 1, 25, dtype=int, endpoint=True)\n",
    "x = np.array([\n",
    "    0, 0, 0, 0, 0,\n",
    "    0, 1, 1, 1, 0,\n",
    "    0, 1, 0, 0, 0,\n",
    "    0, 1, 1, 1, 0,\n",
    "    0, 0, 0, 0, 0,\n",
    "])\n",
    "y = hopfield.recuperar(x)\n",
    "\n",
    "fig, ax = plt.subplots(1,2)\n",
    "show_bitmap(x,ax[0])\n",
    "show_bitmap(y,ax[1])"
   ]
  }
 ],
 "metadata": {
  "kernelspec": {
   "display_name": "Python 3",
   "language": "python",
   "name": "python3"
  },
  "language_info": {
   "codemirror_mode": {
    "name": "ipython",
    "version": 3
   },
   "file_extension": ".py",
   "mimetype": "text/x-python",
   "name": "python",
   "nbconvert_exporter": "python",
   "pygments_lexer": "ipython3",
   "version": "3.13.3"
  }
 },
 "nbformat": 4,
 "nbformat_minor": 5
}
