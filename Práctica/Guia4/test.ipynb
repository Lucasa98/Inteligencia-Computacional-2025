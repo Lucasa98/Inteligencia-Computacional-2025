{
 "cells": [
  {
   "cell_type": "code",
   "execution_count": null,
   "id": "a19e98ba",
   "metadata": {},
   "outputs": [],
   "source": [
    "import numpy as np\n",
    "import matplotlib.pyplot as plt\n",
    "import Som1D\n",
    "\n",
    "som = Som1D.Som1D(10,0.2)\n",
    "som.entrenar(np.array([\n",
    "    [0.9,0.9],\n",
    "    [0.9,-0.9],\n",
    "    [0.9,1.1],\n",
    "    [0.9,-1.1],\n",
    "    [1.1,0.9],\n",
    "    [1.1,-0.9],\n",
    "    [1.1,1.1],\n",
    "    [1.1,-1.1],\n",
    "    [-0.9,0.9],\n",
    "    [-0.9,-0.9],\n",
    "    [-0.9,1.1],\n",
    "    [-0.9,-1.1],\n",
    "    [-1.1,0.9],\n",
    "    [-1.1,-0.9],\n",
    "    [-1.1,1.1],\n",
    "    [-1.1,-1.1],\n",
    "]))"
   ]
  }
 ],
 "metadata": {
  "kernelspec": {
   "display_name": "Python 3",
   "language": "python",
   "name": "python3"
  },
  "language_info": {
   "codemirror_mode": {
    "name": "ipython",
    "version": 3
   },
   "file_extension": ".py",
   "mimetype": "text/x-python",
   "name": "python",
   "nbconvert_exporter": "python",
   "pygments_lexer": "ipython3",
   "version": "3.13.3"
  }
 },
 "nbformat": 4,
 "nbformat_minor": 5
}
