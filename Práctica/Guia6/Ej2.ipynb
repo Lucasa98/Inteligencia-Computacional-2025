{
 "cells": [
  {
   "cell_type": "markdown",
   "id": "606bfe86",
   "metadata": {},
   "source": [
    "# Guia 6\n",
    "\n",
    "## Ejercicio 2\n",
    "\n",
    "Diseñe e implemente un algoritmo genético que busque el mejor subconjunto de características para la clasificación de cáncer (leucemia linfocítica aguda y leucemia mielógena aguda) a partir de datos genómicos. Se proveen 38 muestras en el conjunto de entrenamiento y 34 en el conjunto de prueba (`leukemia_train.csv` y `leukemia_test.csv`, respectivamente). Cada muestra se compone de un total de 7129 características, que corresponden a valores de expresión génica.\n",
    "\n",
    "### Solución\n",
    "\n",
    "La solución buscada será una selección de características de entre las 7129 necesarias para que un perceptrón multicapa resuelva el problema, dando mayor aptitud a aquellas con menor número de características (promoviendo la simplicidad de la solución).\n",
    "Para solución se **codificará** como una cadena de 7129 bits, donde un `1` indicará que la característica es necesaria para solución y un `0` que no.\n",
    "\n",
    "> Esto que sigue es inchequeable, no lo probe\n",
    "\n",
    "Para evaluar su aptitud se entrenará un perceptrón multicapa con esas características y los datos de entrenamiento y se medirá su F1. Finalmente, su aptitud estará dada por\n",
    "$$\n",
    "f =\n",
    "\\begin{cases}\n",
    "    -1000 \\quad&\\text{si }N = 0\\\\\n",
    "    \\frac{F1}{N} \\quad&\\text{en otro caso}\n",
    "\\end{cases}\n",
    "$$\n",
    "donde $N$ serán la cantidad de características de la solución."
   ]
  },
  {
   "cell_type": "code",
   "execution_count": 1,
   "id": "c3010a3a",
   "metadata": {},
   "outputs": [],
   "source": [
    "from sklearn.neural_network import MLPClassifier\n",
    "from sklearn.metrics import f1_score\n",
    "from sklearn.utils._testing import ignore_warnings\n",
    "from sklearn.exceptions import ConvergenceWarning\n",
    "import os\n",
    "import numpy as np\n",
    "import matplotlib.pyplot as plt\n",
    "from Evol import Evol\n",
    "\n",
    "def cargarCSV(csvRelativePath, delimeter = ',') -> np.ndarray[any]:\n",
    "    this_folder = os.path.abspath('') \n",
    "    fullPath = os.path.join(this_folder, csvRelativePath)\n",
    "    return np.loadtxt(fullPath, dtype=float, delimiter=delimeter)\n",
    "\n",
    "# ===== Leer archivos =====\n",
    "# leer archivos\n",
    "trnFileConcent = cargarCSV('./data/leukemia_train.csv')\n",
    "tstFileConcent = cargarCSV('./data/leukemia_test.csv')\n",
    "\n",
    "x_trn = trnFileConcent[:,:-1]\n",
    "yd_trn = trnFileConcent[:,-1]\n",
    "x_tst = tstFileConcent[:,:-1]\n",
    "yd_tst = tstFileConcent[:,-1]"
   ]
  },
  {
   "cell_type": "code",
   "execution_count": 2,
   "id": "edc3f80b",
   "metadata": {},
   "outputs": [
    {
     "name": "stderr",
     "output_type": "stream",
     "text": [
      "100%|██████████| 400/400 [05:19<00:00,  1.25it/s]\n"
     ]
    }
   ],
   "source": [
    "# ===== Algoritmo evolutivo =====\n",
    "# funcion de decodificacion\n",
    "def b2caracts(x: np.ndarray[np.uint8]) -> list[np.ndarray[int]]|np.ndarray[int]:\n",
    "    x = np.atleast_2d(x)\n",
    "    # una poblacion\n",
    "    N, B = x.shape  # N individuos, B bits por individuo\n",
    "    caracts = [np.flatnonzero(x[i]) for i in range(N)]\n",
    "    return caracts if len(caracts) > 1 else caracts[0]\n",
    "\n",
    "# funcion de binarizacion\n",
    "def f2b(x: list[float], B: int) -> np.ndarray[np.uint8]:\n",
    "    x = np.atleast_1d(x)\n",
    "    norm = x/1024 + 0.5\n",
    "    ints = np.clip(np.round(norm * (2**B - 1)), 2**B - 1).astype(np.uint64)\n",
    "    bits = ((ints[:, None] >> np.arange(B-1, -1, -1)) & 1).astype(np.uint8)\n",
    "    return bits if len(x) > 1 else bits[0]\n",
    "\n",
    "@ignore_warnings(category=ConvergenceWarning)\n",
    "def fitness(x: np.ndarray[np.uint8]) -> np.ndarray[float]|float:\n",
    "    # obtenemos los indices de las caracteristicas\n",
    "    individuos = b2caracts(x)\n",
    "    n_individuos = len(individuos)\n",
    "    fits = np.zeros(n_individuos, dtype=float)\n",
    "    for i, caracts in enumerate(individuos):\n",
    "        n_caracts = caracts.shape[0]\n",
    "        # si hay 0 caracteristicas, penalizar\n",
    "        if n_caracts == 0:\n",
    "            fits[i] = -1000\n",
    "            continue\n",
    "\n",
    "        # entrenamos y evaluamos el perceptron con las caracteristicas elegidas\n",
    "        inputs = x_trn[:,caracts]\n",
    "        mlp = MLPClassifier(\n",
    "            hidden_layer_sizes=(n_caracts),\n",
    "            max_iter=5\n",
    "        )\n",
    "        mlp.fit(inputs, yd_trn)\n",
    "        f1 = f1_score(yd_trn, mlp.predict(inputs))\n",
    "        fits[i] = f1/float(n_caracts)\n",
    "\n",
    "    return fits if fits.shape[0] > 1 else fits[0]\n",
    "\n",
    "def init_poblacion(N: int, B: int, rng: np.random.Generator) -> np.ndarray[np.uint8]:\n",
    "    # tomar 20 posiciones al azar y hacerlas 1 (para cada individuo)\n",
    "    pob = np.zeros((N,B),dtype=np.uint8)\n",
    "    posiciones = rng.integers(0,B,size=(N,20))\n",
    "    for n in range(N):\n",
    "        pob[n, posiciones[n,:]] = 1\n",
    "    return pob\n",
    "\n",
    "evol = Evol(\n",
    "    init_fun=init_poblacion,\n",
    "    fit_fun=fitness,\n",
    "    max_gen=400,\n",
    "    poblacion=200,\n",
    "    progenitores=20,\n",
    "    long_cromosoma=7129,\n",
    "    mutacion=0.1,\n",
    "    tolerancia=400\n",
    ")\n",
    "\n",
    "poblacion = evol.evolve()"
   ]
  },
  {
   "cell_type": "code",
   "execution_count": 3,
   "id": "f1547758",
   "metadata": {},
   "outputs": [
    {
     "name": "stderr",
     "output_type": "stream",
     "text": [
      "C:\\Users\\Gamemax\\AppData\\Local\\Packages\\PythonSoftwareFoundation.Python.3.12_qbz5n2kfra8p0\\LocalCache\\local-packages\\Python312\\site-packages\\sklearn\\neural_network\\_multilayer_perceptron.py:781: ConvergenceWarning: Stochastic Optimizer: Maximum iterations (500) reached and the optimization hasn't converged yet.\n",
      "  warnings.warn(\n"
     ]
    }
   ],
   "source": [
    "mejor = poblacion[np.argmin(fitness(poblacion))]\n",
    "mejores_caracteristicas = b2caracts(mejor)\n",
    "mlp = MLPClassifier(\n",
    "    hidden_layer_sizes=(mejores_caracteristicas.shape[0]),\n",
    "    max_iter=500\n",
    ")\n",
    "mlp.fit(x_trn[:,mejores_caracteristicas], yd_trn)\n",
    "f1_trn = f1_score(yd_trn, mlp.predict(x_trn[:,mejores_caracteristicas]))\n",
    "f1_tst = f1_score(yd_tst, mlp.predict(x_tst[:,mejores_caracteristicas]))"
   ]
  },
  {
   "cell_type": "code",
   "execution_count": 4,
   "id": "d9dec351",
   "metadata": {},
   "outputs": [
    {
     "name": "stdout",
     "output_type": "stream",
     "text": [
      "cantidad de caracteristicas de la solucion: 1\n",
      "f1 en train: 0.32\n",
      "f1 en test: 0.38461538461538464\n"
     ]
    },
    {
     "data": {
      "text/plain": [
       "[<matplotlib.lines.Line2D at 0x1e5984eef90>]"
      ]
     },
     "execution_count": 4,
     "metadata": {},
     "output_type": "execute_result"
    },
    {
     "data": {
      "image/png": "[encoded data removed]",
      "text/plain": [
       "<Figure size 640x480 with 1 Axes>"
      ]
     },
     "metadata": {},
     "output_type": "display_data"
    }
   ],
   "source": [
    "print(f\"cantidad de caracteristicas de la solucion: {mejores_caracteristicas.shape[0]}\")\n",
    "print(f\"f1 en train: {f1_trn}\")\n",
    "print(f\"f1 en test: {f1_tst}\")\n",
    "plt.grid()\n",
    "plt.plot(evol.fit_history[:,0],evol.fit_history[:,1])"
   ]
  }
 ],
 "metadata": {
  "kernelspec": {
   "display_name": "Python 3",
   "language": "python",
   "name": "python3"
  },
  "language_info": {
   "codemirror_mode": {
    "name": "ipython",
    "version": 3
   },
   "file_extension": ".py",
   "mimetype": "text/x-python",
   "name": "python",
   "nbconvert_exporter": "python",
   "pygments_lexer": "ipython3",
   "version": "3.12.10"
  }
 },
 "nbformat": 4,
 "nbformat_minor": 5
}
