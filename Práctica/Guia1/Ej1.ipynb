{
 "cells": [
  {
   "cell_type": "markdown",
   "id": "80d86cc5",
   "metadata": {},
   "source": [
    "# Entrenar perceptron"
   ]
  },
  {
   "cell_type": "code",
   "execution_count": 1,
   "id": "78c852d9",
   "metadata": {},
   "outputs": [
    {
     "name": "stdout",
     "output_type": "stream",
     "text": [
      "Tasa de error en training: 0.0\n"
     ]
    }
   ],
   "source": [
    "import os\n",
    "import numpy as np\n",
    "import Perceptron\n",
    "\n",
    "def cargarCSV(csvRelativePath, delimeter = ','):\n",
    "    this_folder = os.path.abspath('')\n",
    "    fullPath = os.path.join(this_folder, csvRelativePath)\n",
    "    return np.loadtxt(fullPath, dtype=float, delimiter=delimeter)\n",
    "\n",
    "def funcionActivacion(v):\n",
    "    return 1 if v >= 0 else -1\n",
    "\n",
    "# inicializar random\n",
    "rng = np.random.default_rng()\n",
    "# ===== PARAMETROS =====\n",
    "# Taza de aprendizaje\n",
    "aprRate = 0.1\n",
    "# Cantidad maxima de epocas\n",
    "epocas = 100\n",
    "# Tolerancia al error\n",
    "maxErr = 0.1\n",
    "\n",
    "# ===== LEER ARCHIVOS =====\n",
    "# Archivo de training\n",
    "trainFile = cargarCSV('OR_trn.csv')\n",
    "# Entradas\n",
    "x = trainFile[:,:-1]\n",
    "# Salidas esperadas\n",
    "yd = trainFile[:,-1]\n",
    "\n",
    "perceptron = Perceptron.Perceptron(aprRate, epocas, funcionActivacion)\n",
    "\n",
    "error = perceptron.entrenar(x,yd,maxErr)\n",
    "\n",
    "print(f\"Tasa de error en training: {error}\")"
   ]
  },
  {
   "cell_type": "markdown",
   "id": "c57f7443",
   "metadata": {},
   "source": [
    "# Testear perceptron"
   ]
  },
  {
   "cell_type": "code",
   "execution_count": 2,
   "id": "6c3cf318",
   "metadata": {},
   "outputs": [
    {
     "name": "stdout",
     "output_type": "stream",
     "text": [
      "Tasa de error en testing: 0.0\n"
     ]
    }
   ],
   "source": [
    "# ===== LEER ARCHIVOS =====\n",
    "# Archivo de testing\n",
    "testFile = cargarCSV('OR_tst.csv')\n",
    "# Entradas\n",
    "x = testFile[:,:-1]\n",
    "# Salidas esperadas\n",
    "yd = testFile[:,-1]\n",
    "\n",
    "error = perceptron.test(x,yd)\n",
    "\n",
    "print(f\"Tasa de error en testing: {error}\")"
   ]
  }
 ],
 "metadata": {
  "kernelspec": {
   "display_name": "Python 3",
   "language": "python",
   "name": "python3"
  },
  "language_info": {
   "codemirror_mode": {
    "name": "ipython",
    "version": 3
   },
   "file_extension": ".py",
   "mimetype": "text/x-python",
   "name": "python",
   "nbconvert_exporter": "python",
   "pygments_lexer": "ipython3",
   "version": "3.13.3"
  }
 },
 "nbformat": 4,
 "nbformat_minor": 5
}
