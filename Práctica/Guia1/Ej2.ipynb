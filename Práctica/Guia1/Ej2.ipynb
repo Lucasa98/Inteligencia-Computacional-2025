{
 "cells": [
  {
   "cell_type": "markdown",
   "id": "523075ae",
   "metadata": {},
   "source": [
    "# Guía 1\n",
    "\n",
    "## Ejercicio 2\n",
    "\n",
    "Implemente una rutina de graficación que permite visualizar, para el caso de dos entradas, los patrones utilizados y la recta de separación que se va ajustando durante el entrenamiento del perceptrón simple. Utilice dicha rutina para visualizar el entrenamiento en los problemas `OR` y `XOR` (utilizando los archivos de datos `OR.trn.csv` y `XOR.trn.csv`).\n",
    "\n",
    "### Solución"
   ]
  }
 ],
 "metadata": {
  "language_info": {
   "name": "python"
  }
 },
 "nbformat": 4,
 "nbformat_minor": 5
}
