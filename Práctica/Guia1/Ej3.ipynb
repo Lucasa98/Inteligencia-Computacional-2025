{
 "cells": [
  {
   "cell_type": "markdown",
   "id": "6932db26",
   "metadata": {},
   "source": [
    "# Guía 1\n",
    "\n",
    "## Ejercicio 3\n",
    "\n",
    "Repita el entrenamiento realizado para el caso del `OR`, pero entrenando con los archivos `OR_50_trn.csv` y `OR_90_trn.csv`, y sus correspondientes `OR_50_tst.csv` y `OR_90_tst.csv` oara test. Estos datos fueron generados de la misma forma que los usados en el primer ejercicio, pero utilizando desviaciones aleatorias de 50% y 90%, respectivamente. Analice y discuta los resultados.\n",
    "\n",
    "## Solución"
   ]
  }
 ],
 "metadata": {
  "language_info": {
   "name": "python"
  }
 },
 "nbformat": 4,
 "nbformat_minor": 5
}
