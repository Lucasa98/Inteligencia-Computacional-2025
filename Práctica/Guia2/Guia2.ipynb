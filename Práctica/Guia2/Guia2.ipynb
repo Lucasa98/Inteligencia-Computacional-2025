{
 "cells": [
  {
   "cell_type": "markdown",
   "id": "2f8cce5b",
   "metadata": {},
   "source": [
    "# Guia 2\n",
    "\n",
    "## Ejercicio 1\n",
    "\n",
    "Implemente el algorítmo de retropropagación para un perceptrón multicapa de forma que se pueda elegir libremente la cantidad de capas de la red y de neuronas en cada capa. Pruébelo entrenando una red de estructura apropiada para resolver el problema `XOR`, con sus particione de entrenamiento y prueba correspondientes (datos de la Guía de Trabajos Prácticos 1)."
   ]
  },
  {
   "cell_type": "code",
   "execution_count": 13,
   "id": "1f2947e1",
   "metadata": {},
   "outputs": [
    {
     "name": "stderr",
     "output_type": "stream",
     "text": [
      "<>:15: SyntaxWarning: invalid escape sequence '\\F'\n",
      "<>:15: SyntaxWarning: invalid escape sequence '\\F'\n",
      "C:\\Users\\giuli\\AppData\\Local\\Temp\\ipykernel_45772\\1463537704.py:15: SyntaxWarning: invalid escape sequence '\\F'\n",
      "  testFile = cargarCSV(\"C:\\FICH\\INTELIGENCIA COMPUTACIONAL\\Guia1\\XOR_tst.csv\")\n",
      "C:\\Users\\giuli\\AppData\\Local\\Temp\\ipykernel_45772\\1463537704.py:15: SyntaxWarning: invalid escape sequence '\\F'\n",
      "  testFile = cargarCSV(\"C:\\FICH\\INTELIGENCIA COMPUTACIONAL\\Guia1\\XOR_tst.csv\")\n"
     ]
    },
    {
     "ename": "ValueError",
     "evalue": "shapes (2,1) and (2,2) not aligned: 1 (dim 1) != 2 (dim 0)",
     "output_type": "error",
     "traceback": [
      "\u001b[31m---------------------------------------------------------------------------\u001b[39m",
      "\u001b[31mValueError\u001b[39m                                Traceback (most recent call last)",
      "\u001b[36mCell\u001b[39m\u001b[36m \u001b[39m\u001b[32mIn[13]\u001b[39m\u001b[32m, line 24\u001b[39m\n\u001b[32m     21\u001b[39m mlp = PerceptronMulticapa([x_tst.shape[\u001b[32m1\u001b[39m], \u001b[32m2\u001b[39m, \u001b[32m1\u001b[39m])\n\u001b[32m     23\u001b[39m \u001b[38;5;66;03m#TRAINING\u001b[39;00m\n\u001b[32m---> \u001b[39m\u001b[32m24\u001b[39m \u001b[43mmlp\u001b[49m\u001b[43m.\u001b[49m\u001b[43mentrenar\u001b[49m\u001b[43m(\u001b[49m\u001b[43mx_trn\u001b[49m\u001b[43m,\u001b[49m\u001b[43m \u001b[49m\u001b[43my_trn\u001b[49m\u001b[43m)\u001b[49m\n\u001b[32m     26\u001b[39m \u001b[38;5;66;03m#TESING\u001b[39;00m\n\u001b[32m     27\u001b[39m \u001b[38;5;28mprint\u001b[39m(\u001b[33m\"\u001b[39m\u001b[33mPredicciones para XOR:\u001b[39m\u001b[33m\"\u001b[39m)\n",
      "\u001b[36mFile \u001b[39m\u001b[32mc:\\FICH\\INTELIGENCIA COMPUTACIONAL\\Guia2\\PerceptronMulticapa.py:64\u001b[39m, in \u001b[36mPerceptronMulticapa.entrenar\u001b[39m\u001b[34m(self, x, y, epocas)\u001b[39m\n\u001b[32m     62\u001b[39m \u001b[38;5;28;01mfor\u001b[39;00m epoca \u001b[38;5;129;01min\u001b[39;00m \u001b[38;5;28mrange\u001b[39m(epocas):\n\u001b[32m     63\u001b[39m     \u001b[38;5;28;01mfor\u001b[39;00m i \u001b[38;5;129;01min\u001b[39;00m \u001b[38;5;28mrange\u001b[39m(\u001b[38;5;28mlen\u001b[39m(x)):\n\u001b[32m---> \u001b[39m\u001b[32m64\u001b[39m         \u001b[38;5;28;43mself\u001b[39;49m\u001b[43m.\u001b[49m\u001b[43mforwardPropagation\u001b[49m\u001b[43m(\u001b[49m\u001b[43mx\u001b[49m\u001b[43m[\u001b[49m\u001b[43mi\u001b[49m\u001b[43m]\u001b[49m\u001b[43m)\u001b[49m\n\u001b[32m     65\u001b[39m         \u001b[38;5;28mself\u001b[39m.backPropagation(y[i])\n",
      "\u001b[36mFile \u001b[39m\u001b[32mc:\\FICH\\INTELIGENCIA COMPUTACIONAL\\Guia2\\PerceptronMulticapa.py:35\u001b[39m, in \u001b[36mPerceptronMulticapa.forwardPropagation\u001b[39m\u001b[34m(self, x)\u001b[39m\n\u001b[32m     32\u001b[39m \u001b[38;5;28mself\u001b[39m.z = [] \u001b[38;5;66;03m#lista de valores z por capa\u001b[39;00m\n\u001b[32m     34\u001b[39m \u001b[38;5;28;01mfor\u001b[39;00m W, biases \u001b[38;5;129;01min\u001b[39;00m \u001b[38;5;28mzip\u001b[39m(\u001b[38;5;28mself\u001b[39m.W, \u001b[38;5;28mself\u001b[39m.biases): \n\u001b[32m---> \u001b[39m\u001b[32m35\u001b[39m     z = \u001b[43mnp\u001b[49m\u001b[43m.\u001b[49m\u001b[43mdot\u001b[49m\u001b[43m(\u001b[49m\u001b[43mW\u001b[49m\u001b[43m,\u001b[49m\u001b[43m \u001b[49m\u001b[43ma\u001b[49m\u001b[43m)\u001b[49m+ biases \n\u001b[32m     36\u001b[39m     a = \u001b[38;5;28mself\u001b[39m.sigmoid(z) \n\u001b[32m     37\u001b[39m     \u001b[38;5;28mself\u001b[39m.z.append(z) \n",
      "\u001b[31mValueError\u001b[39m: shapes (2,1) and (2,2) not aligned: 1 (dim 1) != 2 (dim 0)"
     ]
    }
   ],
   "source": [
    "import os\n",
    "import numpy as np\n",
    "from PerceptronMulticapa import PerceptronMulticapa\n",
    "\n",
    "def cargarCSV(csvRelativePath, delimiter=','):\n",
    "    this_folder = os.path.abspath('')\n",
    "    fullPath = os.path.join(this_folder, csvRelativePath)\n",
    "    return np.loadtxt(fullPath, dtype=float, delimiter=delimiter)\n",
    "\n",
    "\n",
    "trainFile = cargarCSV(r\"C:\\FICH\\INTELIGENCIA COMPUTACIONAL\\Guia1\\XOR_trn.csv\")\n",
    "x_trn = trainFile[:, :-1]\n",
    "y_trn = trainFile[:, -1].reshape(-1, 1)  #reshape a 2D\n",
    "\n",
    "testFile = cargarCSV(\"C:\\FICH\\INTELIGENCIA COMPUTACIONAL\\Guia1\\XOR_tst.csv\")\n",
    "x_tst = testFile[:,:-1]\n",
    "y_tst = testFile[:,-1]\n",
    "\n",
    "\n",
    "# Capas: 2 entradas, 2 neuronas ocultas, 1 salida\n",
    "mlp = PerceptronMulticapa([x_tst.shape[1], 2, 1])\n",
    "\n",
    "#TRAINING\n",
    "mlp.entrenar(x_trn, y_trn)\n",
    "\n",
    "#TESING\n",
    "print(\"Predicciones para XOR:\")\n",
    "for i in range(len(x_trn)):\n",
    "    salida = mlp.predecir(x_tst[i])\n",
    "    print(f\"Entrada: {x_tst[i]}, Esperado: {y_tst[i]}, Predicción: {salida}\")\n"
   ]
  },
  {
   "cell_type": "code",
   "execution_count": null,
   "id": "abfe647e",
   "metadata": {},
   "outputs": [],
   "source": []
  },
  {
   "cell_type": "markdown",
   "id": "527d14bf",
   "metadata": {},
   "source": [
    "## Ejercicio 2\n",
    "\n",
    "Utilice para entrenamiento y prueba los conjuntos de datos `concent_trn.csv` y `concent_tst.csv`, que consisten en dos clases distribuidas en forma concéntrica como muestra la Figura 1. Determine la estructura de una red de tipo perceptrón multicapa que resulte más apropiada para resolver este problema. Represente gráficamente, con diferentes colores, el resultado de la clasificación realizada por el perceptrón multicapa.\n",
    "\n",
    "### Solución\n",
    "\n",
    "Los pasos para ajustar son:\n",
    "- Prograpar entrada para calcular salida\n",
    "- Calcular error\n",
    "- Propagar patras calculando los deltas de cada neurona\n",
    "\n",
    "Modelacion:\n",
    "- Modelar cada capa como\n",
    "    - un vector columna de entradas\n",
    "    - una matriz de pesos\n",
    "    - calculará el vector de salidas a partir de un vector de entradas y la matriz de pesos\n",
    "    - Hay que agregarle noma el peso del bias\n",
    "\n",
    "Bucle de entrenamiento:\n",
    "    - forward: multiplicar la matriz de pesos por las entradas, te da la salida, que la usa la siguiente capa, etc. De aca sacamos los vectores de salida de cada capa\n",
    "    - backward: calcular el delta de cada capa, desde la capa de salida pa'tras. De aca sacamos los vectores delta de cada capa.\n",
    "    - actualizacion"
   ]
  },
  {
   "cell_type": "markdown",
   "id": "a117bd33",
   "metadata": {},
   "source": [
    "## Ejercicio 3\n",
    "\n",
    "_Iris_ es el género de una planta herbácea con flores que se utilizan en decoración. Dentro de este género existen muy diversas especies, entre las que se han estudiado: _Iris setosa_, _Iris versicolor_ e _Iris virginica_ (ver Figura 2).\n",
    "\n",
    "Estas tres especies pueden distinguirse según las dimensiones de sus pétalos y sépalos. Un grupo de investigadores ha recopilado la información correspondiente a las longitudes y anchos de los pétalos y sépalos de 50 plantas de cada especie. En el archivo `iris81_trn.csv` se encuentra el conjunto de entrenamiento, y en `iris81_tst.csv` el de prueba, generado a partir de estas mediciones (en cm), junto con un código binario que indica la clase de cada meustra (Especie) reconocida por el grupo de investigadores ([-1, -1, 1] = _setosa_, [-1, 1, -1] = _versicolor_, [1, -1, -1] = _virginica_).\n",
    "\n",
    "Determine la estructura óptima de un perceptrón multicapa para resolver este problema. Explore cómo varía el desempeño al usar distintas tasas de aprendizaje, y para cada caso grafique las curvas de error cuadrático total y error de clasificación en función de las épocas de entrenamiento."
   ]
  }
 ],
 "metadata": {
  "kernelspec": {
   "display_name": "Python 3",
   "language": "python",
   "name": "python3"
  },
  "language_info": {
   "codemirror_mode": {
    "name": "ipython",
    "version": 3
   },
   "file_extension": ".py",
   "mimetype": "text/x-python",
   "name": "python",
   "nbconvert_exporter": "python",
   "pygments_lexer": "ipython3",
   "version": "3.13.7"
  }
 },
 "nbformat": 4,
 "nbformat_minor": 5
}
