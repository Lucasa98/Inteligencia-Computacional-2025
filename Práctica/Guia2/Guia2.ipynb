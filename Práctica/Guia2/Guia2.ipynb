{
 "cells": [
  {
   "cell_type": "markdown",
   "id": "2f8cce5b",
   "metadata": {},
   "source": [
    "# Guia 2\n",
    "\n",
    "## Ejercicio 1\n",
    "\n",
    "Implemente el algorítmo de retropropagación para un perceptrón multicapa de forma que se pueda elegir libremente la cantidad de capas de la red y de neuronas en cada capa. Pruébelo entrenando una red de estructura apropiada para resolver el problema `XOR`, con sus particione de entrenamiento y prueba correspondientes (datos de la Guía de Trabajos Prácticos 1).\n",
    "\n",
    "### Solucion\n",
    "\n",
    "Los pasos para ajustar son:\n",
    "- Prograpar entrada para calcular salida\n",
    "- Calcular error\n",
    "- Propagar patras calculando los deltas de cada neurona\n",
    "\n",
    "Modelacion:\n",
    "- Modelar cada capa como\n",
    "    - un vector columna de entradas\n",
    "    - una matriz de pesos\n",
    "    - calculará el vector de salidas a partir de un vector de entradas y la matriz de pesos\n",
    "    - Hay que agregarle noma el peso del bias\n",
    "\n",
    "Bucle de entrenamiento:\n",
    "    - forward: multiplicar la matriz de pesos por las entradas, te da la salida, que la usa la siguiente capa, etc. De aca sacamos los vectores de salida de cada capa\n",
    "    - backward: calcular el delta de cada capa, desde la capa de salida pa'tras. De aca sacamos los vectores delta de cada capa.\n",
    "    - actualizacion"
   ]
  },
  {
   "cell_type": "code",
   "execution_count": 1,
   "id": "1f2947e1",
   "metadata": {},
   "outputs": [
    {
     "name": "stdout",
     "output_type": "stream",
     "text": [
      "error de training: 0.0\n"
     ]
    },
    {
     "data": {
      "image/png": "[encoded data removed]",
      "text/plain": [
       "<Figure size 640x480 with 1 Axes>"
      ]
     },
     "metadata": {},
     "output_type": "display_data"
    }
   ],
   "source": [
    "import os\n",
    "import numpy as np\n",
    "import matplotlib.pyplot as plt\n",
    "import PerceptronMulticapa\n",
    "\n",
    "def cargarCSV(csvRelativePath, delimeter = ',') -> np.ndarray[any]:\n",
    "    this_folder = os.path.abspath('') \n",
    "    fullPath = os.path.join(this_folder, csvRelativePath)\n",
    "    return np.loadtxt(fullPath, dtype=float, delimiter=delimeter)\n",
    "\n",
    "# ===== TRAINING =====\n",
    "# leer archivos\n",
    "trainFileXOR = cargarCSV('./data/XOR_trn.csv')\n",
    "x = trainFileXOR[:,:-1]\n",
    "yd = trainFileXOR[:,-1]\n",
    "\n",
    "NNXOR = PerceptronMulticapa.PerceptronMulticapa(\n",
    "    cant_entradas=x.shape[1],\n",
    "    capas=[2,1],\n",
    "    max_epocas=100,\n",
    "    tasa_aprendizaje=0.01\n",
    ")\n",
    "\n",
    "trnErr = NNXOR.entrenar(\n",
    "    x=x,\n",
    "    yd=yd,\n",
    "    targetError=0.1\n",
    ")\n",
    "\n",
    "print(f\"error de training: {trnErr}\")\n",
    "\n",
    "# Graficar error\n",
    "plt.grid()\n",
    "plt.plot(NNXOR.error_history)\n",
    "plt.xlabel('epoca')\n",
    "plt.ylabel(f\"error (fallos/{x.shape[0]})\")\n",
    "plt.show()"
   ]
  },
  {
   "cell_type": "markdown",
   "id": "527d14bf",
   "metadata": {},
   "source": [
    "## Ejercicio 2\n",
    "\n",
    "Utilice para entrenamiento y prueba los conjuntos de datos `concent_trn.csv` y `concent_tst.csv`, que consisten en dos clases distribuidas en forma concéntrica como muestra la Figura 1. Determine la estructura de una red de tipo perceptrón multicapa que resulte más apropiada para resolver este problema. Represente gráficamente, con diferentes colores, el resultado de la clasificación realizada por el perceptrón multicapa.\n",
    "\n",
    "### Solución\n"
   ]
  },
  {
   "cell_type": "markdown",
   "id": "a117bd33",
   "metadata": {},
   "source": [
    "## Ejercicio 3\n",
    "\n",
    "_Iris_ es el género de una planta herbácea con flores que se utilizan en decoración. Dentro de este género existen muy diversas especies, entre las que se han estudiado: _Iris setosa_, _Iris versicolor_ e _Iris virginica_ (ver Figura 2).\n",
    "\n",
    "Estas tres especies pueden distinguirse según las dimensiones de sus pétalos y sépalos. Un grupo de investigadores ha recopilado la información correspondiente a las longitudes y anchos de los pétalos y sépalos de 50 plantas de cada especie. En el archivo `iris81_trn.csv` se encuentra el conjunto de entrenamiento, y en `iris81_tst.csv` el de prueba, generado a partir de estas mediciones (en cm), junto con un código binario que indica la clase de cada meustra (Especie) reconocida por el grupo de investigadores ([-1, -1, 1] = _setosa_, [-1, 1, -1] = _versicolor_, [1, -1, -1] = _virginica_).\n",
    "\n",
    "Determine la estructura óptima de un perceptrón multicapa para resolver este problema. Explore cómo varía el desempeño al usar distintas tasas de aprendizaje, y para cada caso grafique las curvas de error cuadrático total y error de clasificación en función de las épocas de entrenamiento."
   ]
  }
 ],
 "metadata": {
  "kernelspec": {
   "display_name": "Python 3",
   "language": "python",
   "name": "python3"
  },
  "language_info": {
   "codemirror_mode": {
    "name": "ipython",
    "version": 3
   },
   "file_extension": ".py",
   "mimetype": "text/x-python",
   "name": "python",
   "nbconvert_exporter": "python",
   "pygments_lexer": "ipython3",
   "version": "3.13.3"
  }
 },
 "nbformat": 4,
 "nbformat_minor": 5
}
