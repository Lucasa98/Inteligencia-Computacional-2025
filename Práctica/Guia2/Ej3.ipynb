{
 "cells": [
  {
   "cell_type": "markdown",
   "id": "dca2c314",
   "metadata": {},
   "source": [
    "## Ejercicio 3\n",
    "\n",
    "_Iris_ es el género de una planta herbácea con flores que se utilizan en decoración. Dentro de este género existen muy diversas especies, entre las que se han estudiado: _Iris setosa_, _Iris versicolor_ e _Iris virginica_ (ver Figura 2).\n",
    "\n",
    "Estas tres especies pueden distinguirse según las dimensiones de sus pétalos y sépalos. Un grupo de investigadores ha recopilado la información correspondiente a las longitudes y anchos de los pétalos y sépalos de 50 plantas de cada especie. En el archivo `iris81_trn.csv` se encuentra el conjunto de entrenamiento, y en `iris81_tst.csv` el de prueba, generado a partir de estas mediciones (en cm), junto con un código binario que indica la clase de cada meustra (Especie) reconocida por el grupo de investigadores ([-1, -1, 1] = _setosa_, [-1, 1, -1] = _versicolor_, [1, -1, -1] = _virginica_).\n",
    "\n",
    "Determine la estructura óptima de un perceptrón multicapa para resolver este problema. Explore cómo varía el desempeño al usar distintas tasas de aprendizaje, y para cada caso grafique las curvas de error cuadrático total y error de clasificación en función de las épocas de entrenamiento."
   ]
  }
 ],
 "metadata": {
  "language_info": {
   "name": "python"
  }
 },
 "nbformat": 4,
 "nbformat_minor": 5
}
