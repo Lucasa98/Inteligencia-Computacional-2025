{
 "cells": [
  {
   "cell_type": "markdown",
   "id": "3d10dc1d",
   "metadata": {},
   "source": [
    "# Guía 7\n",
    "\n",
    "## Ejercicio 2\n",
    "\n",
    "Suponga que un viajante tiene que visitar n ciudades en el menor tiempo posible. Considere una matriz D de tama ̃no n × n cuyos elementos dpq denotan la distancia entre cada par de ciudades (p, q). Se define un recorrido como una trayectoria cerrada que visita cada ciudad una y s ́olo una vez (a excepción de la ciudad de partida, a la cual debe regresar). El problema consiste en hallar el recorrido de mínima longitud.\n",
    "\n",
    "Implemente el algoritmo de sistema de hormigas y utilícelo para resolver el problema del agente viajero considerando los datos proporcionados en el archivo gr17.csv.\n",
    "\n",
    "Analice el efecto de la tasa de evaporación (ρ) y de la cantidad de feromona depositada (τ) sobre los resultados de la búsqueda. Para esto ́ultimo compare el desempeño del algoritmo empleando los métodos global, local y uniforme para depósito de feromonas. Realice varias corridas con cada configuración experimental y considere el tiempo de búsqueda y la longitud de los caminos encontrados como medidas para comparar el desempeño. Construya una tabla comparativa con los resultados obtenidos.\n",
    "\n"
   ]
  },
  {
   "cell_type": "code",
   "execution_count": 2,
   "id": "b5c1c095",
   "metadata": {},
   "outputs": [
    {
     "name": "stderr",
     "output_type": "stream",
     "text": [
      "<>:5: SyntaxWarning: invalid escape sequence '\\F'\n",
      "<>:5: SyntaxWarning: invalid escape sequence '\\F'\n",
      "C:\\Users\\giuli\\AppData\\Local\\Temp\\ipykernel_51428\\3317410625.py:5: SyntaxWarning: invalid escape sequence '\\F'\n",
      "  G = np.loadtxt(\"C:\\FICH\\INTELIGENCIA COMPUTACIONAL\\Guia7\\gr17.csv\", delimiter=',')\n"
     ]
    },
    {
     "name": "stdout",
     "output_type": "stream",
     "text": [
      "+-----+-----+----------+----------+----------+--------+---------------------------------------------+\n",
      "| rho |  q  |  metodo  | avg_time | avg_dist | avg_it |                  last path                  |\n",
      "+-----+-----+----------+----------+----------+--------+---------------------------------------------+\n",
      "| 0.1 | 0.1 |  global  |  0.0100  |  112.60  |  8.40  |        [0, np.int64(6), np.int64(16)]       |\n",
      "| 0.1 | 0.1 |  local   |  0.0121  |  109.00  |  9.90  |        [0, np.int64(6), np.int64(16)]       |\n",
      "| 0.1 | 0.1 | uniforme |  0.0082  |  112.60  |  8.20  |        [0, np.int64(6), np.int64(16)]       |\n",
      "| 0.1 |  1  |  global  |  0.0092  |  112.60  |  8.60  |        [0, np.int64(6), np.int64(16)]       |\n",
      "| 0.1 |  1  |  local   |  0.0140  |  111.40  |  9.00  |        [0, np.int64(6), np.int64(16)]       |\n",
      "| 0.1 |  1  | uniforme |  0.0062  |  116.20  |  7.30  |        [0, np.int64(6), np.int64(16)]       |\n",
      "| 0.1 |  10 |  global  |  0.0074  |  112.60  |  7.70  |        [0, np.int64(6), np.int64(16)]       |\n",
      "| 0.1 |  10 |  local   |  0.0078  |  111.40  |  8.30  |        [0, np.int64(6), np.int64(16)]       |\n",
      "| 0.1 |  10 | uniforme |  0.0063  |  116.60  |  7.50  |              [0, np.int64(16)]              |\n",
      "| 0.5 | 0.1 |  global  |  0.0094  |  111.40  |  9.40  |        [0, np.int64(6), np.int64(16)]       |\n",
      "| 0.5 | 0.1 |  local   |  0.0096  |  112.60  |  8.40  |        [0, np.int64(6), np.int64(16)]       |\n",
      "| 0.5 | 0.1 | uniforme |  0.0070  |  112.60  |  7.80  |              [0, np.int64(16)]              |\n",
      "| 0.5 |  1  |  global  |  0.0092  |  112.60  |  8.90  |        [0, np.int64(6), np.int64(16)]       |\n",
      "| 0.5 |  1  |  local   |  0.0102  |  111.40  |  8.40  |        [0, np.int64(6), np.int64(16)]       |\n",
      "| 0.5 |  1  | uniforme |  0.0071  |  112.60  |  7.50  |        [0, np.int64(6), np.int64(16)]       |\n",
      "| 0.5 |  10 |  global  |  0.0076  |  115.00  |  8.50  |        [0, np.int64(6), np.int64(16)]       |\n",
      "| 0.5 |  10 |  local   |  0.0068  |  112.60  |  8.20  |        [0, np.int64(6), np.int64(16)]       |\n",
      "| 0.5 |  10 | uniforme |  0.0057  |  116.20  |  7.80  | [0, np.int64(6), np.int64(7), np.int64(16)] |\n",
      "| 0.9 | 0.1 |  global  |  0.0057  |  115.00  |  7.90  |        [0, np.int64(6), np.int64(16)]       |\n",
      "| 0.9 | 0.1 |  local   |  0.0074  |  115.00  |  7.80  |              [0, np.int64(16)]              |\n",
      "| 0.9 | 0.1 | uniforme |  0.0073  |  110.20  |  7.90  |        [0, np.int64(6), np.int64(16)]       |\n",
      "| 0.9 |  1  |  global  |  0.0054  |  115.00  |  8.10  |              [0, np.int64(16)]              |\n",
      "| 0.9 |  1  |  local   |  0.0058  |  113.80  |  7.40  |        [0, np.int64(6), np.int64(16)]       |\n",
      "| 0.9 |  1  | uniforme |  0.0063  |  117.80  |  7.40  |        [0, np.int64(6), np.int64(16)]       |\n",
      "| 0.9 |  10 |  global  |  0.0043  |  119.90  |  7.60  |              [0, np.int64(16)]              |\n",
      "| 0.9 |  10 |  local   |  0.0043  |  118.60  |  7.20  |              [0, np.int64(16)]              |\n",
      "| 0.9 |  10 | uniforme |  0.0062  |  115.40  |  7.50  |              [0, np.int64(16)]              |\n",
      "+-----+-----+----------+----------+----------+--------+---------------------------------------------+\n"
     ]
    }
   ],
   "source": [
    "import numpy as np  \n",
    "from ACO import ACO\n",
    "from prettytable import PrettyTable\n",
    "\n",
    "G = np.loadtxt(\"C:\\FICH\\INTELIGENCIA COMPUTACIONAL\\Guia7\\gr17.csv\", delimiter=',')\n",
    "\n",
    "cant_hormigas = 10\n",
    "tasa_evaporacion = [0.1, 0.5, 0.9]\n",
    "feromonas_depositadas = [0.1, 1, 10]\n",
    "metodos = ['global', 'local', 'uniforme']\n",
    "alpha = 1.0\n",
    "beta = 1.0\n",
    "max_it = 400\n",
    "resultados = PrettyTable([\"rho\", \"q\", \"metodo\", \"avg_time\", \"avg_dist\", \"avg_it\", \"last path\"])\n",
    "n_runs = 10\n",
    "\n",
    "for rho in tasa_evaporacion:\n",
    "    for q in feromonas_depositadas:\n",
    "        for metodo in metodos:\n",
    "            tiempos = []\n",
    "            dists = []\n",
    "            caminos = []\n",
    "            its = []\n",
    "\n",
    "            for run in range(n_runs):\n",
    "                aco = ACO(cant_hormigas, rho, q, metodo, alpha, beta, max_it)\n",
    "                total_time, best_length, best_path, it = aco.buscar(G, 0, 16)\n",
    "\n",
    "                tiempos.append(total_time)\n",
    "                dists.append(best_length)\n",
    "                caminos.append(best_path)\n",
    "                its.append(it)  \n",
    "            \n",
    "            avg_time = np.mean(tiempos)\n",
    "            avg_dist = np.mean(dists)\n",
    "            avg_it = np.mean(its)   \n",
    "\n",
    "            resultados.add_row([rho, q, metodo, f\"{avg_time:.4f}\", f\"{avg_dist:.2f}\", f\"{avg_it:.2f}\", str(caminos[-1])])\n",
    "\n",
    "print(resultados)\n",
    "               \n",
    "\n",
    "\n"
   ]
  }
 ],
 "metadata": {
  "kernelspec": {
   "display_name": "Python 3",
   "language": "python",
   "name": "python3"
  },
  "language_info": {
   "codemirror_mode": {
    "name": "ipython",
    "version": 3
   },
   "file_extension": ".py",
   "mimetype": "text/x-python",
   "name": "python",
   "nbconvert_exporter": "python",
   "pygments_lexer": "ipython3",
   "version": "3.13.7"
  }
 },
 "nbformat": 4,
 "nbformat_minor": 5
}
