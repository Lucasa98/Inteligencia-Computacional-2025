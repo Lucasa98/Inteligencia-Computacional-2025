{
 "cells": [
  {
   "cell_type": "markdown",
   "id": "3d10dc1d",
   "metadata": {},
   "source": [
    "# Guía 7\n",
    "\n",
    "## Ejercicio 2\n",
    "\n",
    "Suponga que un viajante tiene que visitar n ciudades en el menor tiempo posible. Considere una matriz D de tama ̃no n × n cuyos elementos dpq denotan la distancia entre cada par de ciudades (p, q). Se define un recorrido como una trayectoria cerrada que visita cada ciudad una y s ́olo una vez (a excepción de la ciudad de partida, a la cual debe regresar). El problema consiste en hallar el recorrido de mínima longitud.\n",
    "\n",
    "Implemente el algoritmo de sistema de hormigas y utilícelo para resolver el problema del agente viajero considerando los datos proporcionados en el archivo gr17.csv.\n",
    "\n",
    "Analice el efecto de la tasa de evaporación (ρ) y de la cantidad de feromona depositada (τ) sobre los resultados de la búsqueda. Para esto ́ultimo compare el desempeño del algoritmo empleando los m ́etodos global, local y uniforme para depósito de feromonas. Realice varias corridas con cada configuración experimental y considere el tiempo de búsqueda y la longitud de los caminos encontrados como medidas para comparar el desempeño. Construya una tabla comparativa con los resultados obtenidos.\n",
    "\n"
   ]
  },
  {
   "cell_type": "code",
   "execution_count": 6,
   "id": "b5c1c095",
   "metadata": {},
   "outputs": [
    {
     "name": "stdout",
     "output_type": "stream",
     "text": [
      "Iteración 0: mejor longitud = 109.000\n",
      "Terminado en it 6 - mejor longitud = 109.000 - camino = [(0, np.int64(6)), (np.int64(6), np.int64(16))]\n"
     ]
    },
    {
     "name": "stderr",
     "output_type": "stream",
     "text": [
      "<>:4: SyntaxWarning: invalid escape sequence '\\F'\n",
      "<>:4: SyntaxWarning: invalid escape sequence '\\F'\n",
      "C:\\Users\\giuli\\AppData\\Local\\Temp\\ipykernel_29344\\1188110648.py:4: SyntaxWarning: invalid escape sequence '\\F'\n",
      "  G = np.loadtxt(\"C:\\FICH\\INTELIGENCIA COMPUTACIONAL\\Guia7\\gr17.csv\", delimiter=',')\n"
     ]
    },
    {
     "ename": "AttributeError",
     "evalue": "'ACO' object has no attribute 'best_long'",
     "output_type": "error",
     "traceback": [
      "\u001b[31m---------------------------------------------------------------------------\u001b[39m",
      "\u001b[31mAttributeError\u001b[39m                            Traceback (most recent call last)",
      "\u001b[36mCell\u001b[39m\u001b[36m \u001b[39m\u001b[32mIn[6]\u001b[39m\u001b[32m, line 7\u001b[39m\n\u001b[32m      4\u001b[39m G = np.loadtxt(\u001b[33m\"\u001b[39m\u001b[33mC:\u001b[39m\u001b[33m\\\u001b[39m\u001b[33mFICH\u001b[39m\u001b[33m\\\u001b[39m\u001b[33mINTELIGENCIA COMPUTACIONAL\u001b[39m\u001b[33m\\\u001b[39m\u001b[33mGuia7\u001b[39m\u001b[33m\\\u001b[39m\u001b[33mgr17.csv\u001b[39m\u001b[33m\"\u001b[39m, delimiter=\u001b[33m'\u001b[39m\u001b[33m,\u001b[39m\u001b[33m'\u001b[39m)  \n\u001b[32m      6\u001b[39m aco_global = ACO(cant_hormigas=\u001b[32m10\u001b[39m, tasa_evaporacion=\u001b[32m0.1\u001b[39m, feromonas_depositadas=\u001b[32m10\u001b[39m, metodo=\u001b[33m'\u001b[39m\u001b[33mglobal\u001b[39m\u001b[33m'\u001b[39m, alpha=\u001b[32m1.0\u001b[39m, beta=\u001b[32m1.0\u001b[39m, max_it=\u001b[32m400\u001b[39m)  \n\u001b[32m----> \u001b[39m\u001b[32m7\u001b[39m best_length_global, best_path_global = \u001b[43maco_global\u001b[49m\u001b[43m.\u001b[49m\u001b[43mbuscar\u001b[49m\u001b[43m(\u001b[49m\u001b[43mG\u001b[49m\u001b[43m,\u001b[49m\u001b[43m \u001b[49m\u001b[32;43m0\u001b[39;49m\u001b[43m,\u001b[49m\u001b[43m \u001b[49m\u001b[32;43m16\u001b[39;49m\u001b[43m)\u001b[49m\n\u001b[32m      8\u001b[39m \u001b[38;5;28mprint\u001b[39m(\u001b[33m\"\u001b[39m\u001b[33mGlobal ACO - Best Length:\u001b[39m\u001b[33m\"\u001b[39m, best_length_global)\n\u001b[32m      9\u001b[39m \u001b[38;5;28mprint\u001b[39m(\u001b[33m\"\u001b[39m\u001b[33mGlobal ACO - Best Path:\u001b[39m\u001b[33m\"\u001b[39m, best_path_global)  \n",
      "\u001b[36mFile \u001b[39m\u001b[32mc:\\FICH\\INTELIGENCIA COMPUTACIONAL\\Guia7\\ACO.py:129\u001b[39m, in \u001b[36mACO.buscar\u001b[39m\u001b[34m(self, G, A, B)\u001b[39m\n\u001b[32m    126\u001b[39m     it += \u001b[32m1\u001b[39m\n\u001b[32m    128\u001b[39m \u001b[38;5;28mprint\u001b[39m(\u001b[33mf\u001b[39m\u001b[33m\"\u001b[39m\u001b[33mTerminado en it \u001b[39m\u001b[38;5;132;01m{\u001b[39;00mit\u001b[38;5;132;01m}\u001b[39;00m\u001b[33m - mejor longitud = \u001b[39m\u001b[38;5;132;01m{\u001b[39;00mbest_long\u001b[38;5;132;01m:\u001b[39;00m\u001b[33m.3f\u001b[39m\u001b[38;5;132;01m}\u001b[39;00m\u001b[33m - camino = \u001b[39m\u001b[38;5;132;01m{\u001b[39;00mbest_path\u001b[38;5;132;01m}\u001b[39;00m\u001b[33m\"\u001b[39m)\n\u001b[32m--> \u001b[39m\u001b[32m129\u001b[39m \u001b[38;5;28;01mreturn\u001b[39;00m \u001b[38;5;28;43mself\u001b[39;49m\u001b[43m.\u001b[49m\u001b[43mbest_long\u001b[49m, \u001b[38;5;28mself\u001b[39m.best_path\n",
      "\u001b[31mAttributeError\u001b[39m: 'ACO' object has no attribute 'best_long'"
     ]
    }
   ],
   "source": [
    "import numpy as np  \n",
    "from ACO import ACO\n",
    "\n",
    "G = np.loadtxt(\"C:\\FICH\\INTELIGENCIA COMPUTACIONAL\\Guia7\\gr17.csv\", delimiter=',')  \n",
    "\n",
    "aco_global = ACO(cant_hormigas=10, tasa_evaporacion=0.1, feromonas_depositadas=10, metodo='global', alpha=1.0, beta=1.0, max_it=400)  \n",
    "best_length_global, best_path_global = aco_global.buscar(G, 0, 16)\n",
    "print(\"Global ACO - Best Length:\", best_length_global)\n",
    "print(\"Global ACO - Best Path:\", best_path_global)  \n",
    "\n",
    "aco_local = ACO(cant_hormigas=10, tasa_evaporacion=0.1, feromonas_depositadas=10, metodo='local', alpha=1.0, beta=1.0, max_it=400)  \n",
    "best_length_local, best_path_local = aco_local.buscar(G, 0, 16)\n",
    "print(\"Local ACO - Best Length:\", best_length_local)        \n",
    "print(\"Local ACO - Best Path:\", best_path_local)\n",
    "\n",
    "aco_uniforme = ACO(cant_hormigas=10, tasa_evaporacion=0.1, feromonas_depositadas=10, metodo='uniforme', alpha=1.0, beta=1.0, max_it=400)  \n",
    "best_length_uniforme, best_path_uniforme = aco_uniforme.buscar(G, 0 , 16)\n",
    "print(\"Uniform ACO - Best Length:\", best_length_uniforme)   \n",
    "print(\"Uniform ACO - Best Path:\", best_path_uniforme)\n",
    "\n"
   ]
  }
 ],
 "metadata": {
  "kernelspec": {
   "display_name": "Python 3",
   "language": "python",
   "name": "python3"
  },
  "language_info": {
   "codemirror_mode": {
    "name": "ipython",
    "version": 3
   },
   "file_extension": ".py",
   "mimetype": "text/x-python",
   "name": "python",
   "nbconvert_exporter": "python",
   "pygments_lexer": "ipython3",
   "version": "3.13.7"
  }
 },
 "nbformat": 4,
 "nbformat_minor": 5
}
